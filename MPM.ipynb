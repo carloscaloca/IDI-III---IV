{
  "nbformat": 4,
  "nbformat_minor": 0,
  "metadata": {
    "colab": {
      "provenance": []
    },
    "kernelspec": {
      "name": "python3",
      "display_name": "Python 3"
    },
    "language_info": {
      "name": "python"
    }
  },
  "cells": [
    {
      "cell_type": "markdown",
      "source": [
        "# Modelo"
      ],
      "metadata": {
        "id": "r8lTs1VyaCnz"
      }
    },
    {
      "cell_type": "code",
      "execution_count": null,
      "metadata": {
        "id": "diMalNHOZiSi"
      },
      "outputs": [],
      "source": [
        "mlp = MLPClassifier(random_state=1)"
      ]
    },
    {
      "cell_type": "markdown",
      "source": [
        "## Espacio de Búsqueda de Hiperparámetros"
      ],
      "metadata": {
        "id": "SE1xSbgcaLzy"
      }
    },
    {
      "cell_type": "code",
      "source": [
        "param_grid = {\n",
        "    'hidden_layer_sizes': [(50,), (100,), (50, 50), (100, 50)],\n",
        "    'activation': ['relu', 'tanh'],\n",
        "    'solver': ['adam', 'sgd'],\n",
        "    'alpha': [0.0001, 0.001, 0.01],\n",
        "    'batch_size': [50, 100, 200],\n",
        "    'learning_rate': ['constant','adaptive']\n",
        "}"
      ],
      "metadata": {
        "id": "_QzM8pAoaOeh"
      },
      "execution_count": null,
      "outputs": []
    },
    {
      "cell_type": "code",
      "source": [
        "grid_search = GridSearchCV(mlp, param_grid, cv=5, scoring='accuracy')\n",
        "grid_search.fit(X_train, y_train)\n",
        "\n",
        "best_model = grid_search.best_estimator_\n",
        "best_params = grid_search.best_params_\n",
        "\n",
        "y_pred = best_model.predict(X_test)\n",
        "accuracy = accuracy_score(y_test, y_pred)"
      ],
      "metadata": {
        "id": "cB5ho65HaTdq"
      },
      "execution_count": null,
      "outputs": []
    },
    {
      "cell_type": "markdown",
      "source": [
        "## Modelo Final"
      ],
      "metadata": {
        "id": "S5x6puL6ak_V"
      }
    },
    {
      "cell_type": "code",
      "source": [
        "mlp = MLPClassifier(hidden_layer_sizes=(100,50),\n",
        "                    activation='relu',\n",
        "                    solver='adam',\n",
        "                    alpha=0.0001,\n",
        "                    learning_rate='adaptive',\n",
        "                    batch_size=50,\n",
        "                    early_stopping=True,\n",
        "                    random_state=1)\n"
      ],
      "metadata": {
        "id": "yU02ect3amoG"
      },
      "execution_count": null,
      "outputs": []
    },
    {
      "cell_type": "code",
      "source": [
        "mlp.fit(X_train, y_train)"
      ],
      "metadata": {
        "id": "XUChSzgAaoKk"
      },
      "execution_count": null,
      "outputs": []
    },
    {
      "cell_type": "markdown",
      "source": [
        "## Predicción"
      ],
      "metadata": {
        "id": "rfgtX8OSar6U"
      }
    },
    {
      "cell_type": "code",
      "source": [
        "y_pred = mlp.predict(X_test)"
      ],
      "metadata": {
        "id": "m8TRZnbqatUd"
      },
      "execution_count": null,
      "outputs": []
    },
    {
      "cell_type": "markdown",
      "source": [
        "## Métricas"
      ],
      "metadata": {
        "id": "BvaTLIA2av6v"
      }
    },
    {
      "cell_type": "code",
      "source": [
        "accuracy_mlp = accuracy_score(y_test, y_pred)\n",
        "precision_mlp = precision_score(y_test, y_pred)\n",
        "recall_mlp = recall_score(y_test, y_pred)\n",
        "f1_score_mlp = f1_score(y_test, y_pred)\n",
        "conf_matrixmlp = confusion_matrix(y_test, y_pred)\n",
        "print(accuracy_mlp, precision_mlp, recall_mlp, f1_score_mlp, conf_matrixmlp)"
      ],
      "metadata": {
        "id": "uHk81LBLaxI1"
      },
      "execution_count": null,
      "outputs": []
    },
    {
      "cell_type": "code",
      "source": [
        "y_scoresmlp =mlp.predict_proba(X_test)[:, 1]\n",
        "fpr_mlp, tpr_mlp, thresholdsmlp = roc_curve(y_test, y_scoresmlp)\n",
        "auc_roc_mlp = roc_auc_score(y_test, y_scoresmlp)\n",
        "\n",
        "plt.figure(figsize=(8, 8))\n",
        "plt.plot(fpr_mlp, tpr_mlp, color='blue', lw=2, label=f'AUC = {auc_roc_mlp:.2f}')\n",
        "plt.plot([0, 1], [0, 1], color='green', lw=2, linestyle='--')\n",
        "plt.xlim([0.0, 1.0])\n",
        "plt.ylim([0.0, 1.05])\n",
        "plt.xlabel('Tasa de Falsos Positivos (1 - Especificidad)')\n",
        "plt.ylabel('Tasa de Verdaderos Positivos (Sensibilidad)')\n",
        "plt.title('Curva ROC')\n",
        "plt.legend(loc=\"lower right\")\n",
        "plt.show()"
      ],
      "metadata": {
        "id": "SL5gRk4Ia1QJ"
      },
      "execution_count": null,
      "outputs": []
    }
  ]
}