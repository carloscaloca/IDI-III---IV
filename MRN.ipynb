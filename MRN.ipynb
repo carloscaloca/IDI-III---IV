{
  "nbformat": 4,
  "nbformat_minor": 0,
  "metadata": {
    "colab": {
      "provenance": []
    },
    "kernelspec": {
      "name": "python3",
      "display_name": "Python 3"
    },
    "language_info": {
      "name": "python"
    }
  },
  "cells": [
    {
      "cell_type": "markdown",
      "source": [
        "## Función del Modelo"
      ],
      "metadata": {
        "id": "EGAixc4-X3C2"
      }
    },
    {
      "cell_type": "code",
      "execution_count": null,
      "metadata": {
        "id": "9QVenXM9XyN7"
      },
      "outputs": [],
      "source": [
        "def model_nn():\n",
        "  model = tf.keras.Sequential()\n",
        "  model.add(Dense(25, input_dim=X_train.shape[1], activation='relu'))\n",
        "  model.add(Dropout(0.3),)\n",
        "  model.add(Dense(12, activation='relu'))\n",
        "  model.add(Dropout(0.3),)\n",
        "  model.add(Dense(1, activation='sigmoid'))\n",
        "  model.compile(loss='binary_crossentropy',\n",
        "                optimizer='adam',\n",
        "                metrics=['accuracy'])\n",
        "  return model"
      ]
    },
    {
      "cell_type": "markdown",
      "source": [
        "## Modelo en Keras"
      ],
      "metadata": {
        "id": "SzhxstYMX7Zp"
      }
    },
    {
      "cell_type": "code",
      "source": [
        "nnmodel = KerasClassifier(model = model_nn)"
      ],
      "metadata": {
        "id": "-YsgvQJDX925"
      },
      "execution_count": null,
      "outputs": []
    },
    {
      "cell_type": "markdown",
      "source": [
        "## Espacio de Búsqueda de Hiperparámetros"
      ],
      "metadata": {
        "id": "bDe-tgfOX_jS"
      }
    },
    {
      "cell_type": "code",
      "source": [
        "batchSize = [10, 50, 100]\n",
        "epochs = [10, 30 ,50]\n",
        "parameter_grid = dict(batch_size = batchSize, epochs=epochs)\n",
        "\n",
        "mygrid = GridSearchCV(estimator = nnmodel,\n",
        "                      param_grid = parameter_grid,\n",
        "                      n_jobs = 1,\n",
        "                      cv = 3)\n",
        "grid_result = mygrid.fit(principal_components,y)"
      ],
      "metadata": {
        "id": "nWMcSGx5YARp"
      },
      "execution_count": null,
      "outputs": []
    },
    {
      "cell_type": "code",
      "source": [
        "nnmodel = KerasClassifier(model = model_nn,\n",
        "                          batch_size = 10,\n",
        "                          epochs = 50)"
      ],
      "metadata": {
        "id": "OMPHTyk1YB39"
      },
      "execution_count": null,
      "outputs": []
    },
    {
      "cell_type": "code",
      "source": [
        "optimizer = ['SGD','Adam', 'Adadelta']\n",
        "param = dict(optimizer=optimizer)\n",
        "\n",
        "grid1 = GridSearchCV(estimator = nnmodel,\n",
        "                     param_grid=param,\n",
        "                     n_jobs=-1,\n",
        "                     cv=3)\n",
        "grid_result1 = grid1.fit(principal_components,y)"
      ],
      "metadata": {
        "id": "CTk1_96dYHjT"
      },
      "execution_count": null,
      "outputs": []
    },
    {
      "cell_type": "code",
      "source": [
        "print(\"Best: %f using %s\" % (grid_result1.best_score_,\n",
        "                             grid_result1.best_params_))"
      ],
      "metadata": {
        "id": "AVSIeY3yYLx-"
      },
      "execution_count": null,
      "outputs": []
    },
    {
      "cell_type": "markdown",
      "source": [
        "## Modelo Final"
      ],
      "metadata": {
        "id": "_6QRP2NDYOJL"
      }
    },
    {
      "cell_type": "code",
      "source": [
        "def model_nnnnn():\n",
        "  model = tf.keras.Sequential()\n",
        "  model.add(Dense(25, input_dim=X_train_pca.shape[1], activation='relu'))\n",
        "  model.add(Dropout(0.3),)\n",
        "  model.add(Dense(15, activation='relu'))\n",
        "  model.add(Dropout(0.3),)\n",
        "  model.add(Dense(10, activation='relu'))\n",
        "  model.add(Dropout(0.3),)\n",
        "  model.add(Dense(1, activation='sigmoid'))\n",
        "  model.compile(loss='binary_crossentropy', optimizer='Adam', metrics=['accuracy'])\n",
        "  return model"
      ],
      "metadata": {
        "id": "P6_XjeRwYO0Y"
      },
      "execution_count": null,
      "outputs": []
    },
    {
      "cell_type": "code",
      "source": [
        "nnnnnmodel = KerasClassifier(model = model_nnnnn,\n",
        "                             batch_size = 100,\n",
        "                             epochs = 50)"
      ],
      "metadata": {
        "id": "48BNktyNYRV6"
      },
      "execution_count": null,
      "outputs": []
    },
    {
      "cell_type": "code",
      "source": [
        "nnnnnmodel.fit(X_train_pca,y_train)"
      ],
      "metadata": {
        "id": "V6j43GzAYfEL"
      },
      "execution_count": null,
      "outputs": []
    },
    {
      "cell_type": "markdown",
      "source": [
        "## Predicción"
      ],
      "metadata": {
        "id": "iKDmzym8YhUh"
      }
    },
    {
      "cell_type": "code",
      "source": [
        "y_pred = nnnnnmodel.predict(X_test_pca)\n",
        "print('Accuracy of neural network classifier on train set: {:.2f}'.format(nnnnnmodel.score(X_train_pca,\n",
        "                                                                                           y_train)))\n",
        "print('Accuracy of neural network classifier on test set: {:.2f}'.format(nnnnnmodel.score(X_test_pca,\n",
        "                                                                                          y_test)))\n",
        "print('Precision of neural network classifier on test set: {:.2f}'.format(precision_score(y_test,\n",
        "                                                                                          y_pred)))"
      ],
      "metadata": {
        "id": "c6TwCFDSYhsA"
      },
      "execution_count": null,
      "outputs": []
    },
    {
      "cell_type": "markdown",
      "source": [
        "### Métricas"
      ],
      "metadata": {
        "id": "oH3mb3OwYzkV"
      }
    },
    {
      "cell_type": "code",
      "source": [
        "accuracy_nn = accuracy_score(y_test, y_pred)\n",
        "precision_nn = precision_score(y_test, y_pred)\n",
        "recall_nn = recall_score(y_test, y_pred)\n",
        "f1_score_nn = f1_score(y_test, y_pred)\n",
        "conf_matrix = confusion_matrix(y_test, y_pred)\n",
        "print(accuracy_nn, precision_nn, recall_nn, f1_score_nn, conf_matrix)"
      ],
      "metadata": {
        "id": "fZ_sMD_IY0aI"
      },
      "execution_count": null,
      "outputs": []
    },
    {
      "cell_type": "code",
      "source": [
        "y_scores = nnnnnmodel.predict_proba(X_test_pca)[:, 1]\n",
        "fpr_nn, tpr_nn, thresholds_nn = roc_curve(y_test, y_scores)\n",
        "auc_roc_nn = roc_auc_score(y_test, y_scores)\n",
        "\n",
        "plt.figure(figsize=(8, 8))\n",
        "plt.plot(fpr_nn, tpr_nn, color='red', lw=2, label=f'AUC = {auc_roc_nn:.2f}')\n",
        "plt.plot([0, 1], [0, 1], color='green', lw=2, linestyle='--')\n",
        "plt.xlim([0.0, 1.0])\n",
        "plt.ylim([0.0, 1.05])\n",
        "plt.xlabel('Tasa de Falsos Positivos (1 - Especificidad)')\n",
        "plt.ylabel('Tasa de Verdaderos Positivos (Sensibilidad)')\n",
        "plt.title('Curva ROC')\n",
        "plt.legend(loc=\"lower right\")\n",
        "plt.show()"
      ],
      "metadata": {
        "id": "LnSD71_LY3g8"
      },
      "execution_count": null,
      "outputs": []
    }
  ]
}