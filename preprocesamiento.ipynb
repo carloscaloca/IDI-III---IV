{
  "nbformat": 4,
  "nbformat_minor": 0,
  "metadata": {
    "colab": {
      "provenance": [],
      "toc_visible": true
    },
    "kernelspec": {
      "name": "python3",
      "display_name": "Python 3"
    },
    "language_info": {
      "name": "python"
    }
  },
  "cells": [
    {
      "cell_type": "markdown",
      "source": [
        "## Identificación de Valores Faltantes"
      ],
      "metadata": {
        "id": "pUl64hsNVnOO"
      }
    },
    {
      "cell_type": "code",
      "execution_count": null,
      "metadata": {
        "id": "gH_fCVGhVheR"
      },
      "outputs": [],
      "source": [
        "missing_values_count = df.isnull().sum()\n",
        "print(missing_values_count)\n",
        "np.shape(df)"
      ]
    },
    {
      "cell_type": "code",
      "source": [
        "new_df = df.dropna()"
      ],
      "metadata": {
        "id": "cIl_JHxpVtAT"
      },
      "execution_count": null,
      "outputs": []
    },
    {
      "cell_type": "code",
      "source": [
        "missing_values_count_2 = new_df.isnull().sum()\n",
        "print(missing_values_count_2)\n",
        "np.shape(new_df)"
      ],
      "metadata": {
        "id": "Q2E5gzq3Vu_I"
      },
      "execution_count": null,
      "outputs": []
    },
    {
      "cell_type": "markdown",
      "source": [
        "## División de Datos en Entrenamiento y Prueba"
      ],
      "metadata": {
        "id": "9J51tHJYVrP5"
      }
    },
    {
      "cell_type": "code",
      "source": [
        "X = new_df.drop(['Response','Close_time','Ignore'], axis=1)\n",
        "y = new_df['Response']\n",
        "\n",
        "X_train, X_test, y_train, y_test = train_test_split(X,y, test_size = 0.2,\n",
        "                                                    random_state = 1)"
      ],
      "metadata": {
        "id": "r5GzlAhbVy7C"
      },
      "execution_count": null,
      "outputs": []
    },
    {
      "cell_type": "code",
      "source": [
        "X.info()"
      ],
      "metadata": {
        "id": "uIzp5XkUV1_Y"
      },
      "execution_count": null,
      "outputs": []
    },
    {
      "cell_type": "markdown",
      "source": [
        "## Escalado"
      ],
      "metadata": {
        "id": "xgcUi7ZRV4aa"
      }
    },
    {
      "cell_type": "code",
      "source": [
        "min_max_scaler = preprocessing.MinMaxScaler()\n",
        "X_train_minmax = min_max_scaler.fit_transform(X_train)\n",
        "X_test_minmax = min_max_scaler.fit_transform(X_test)"
      ],
      "metadata": {
        "id": "frVMu-eGV4yg"
      },
      "execution_count": null,
      "outputs": []
    },
    {
      "cell_type": "markdown",
      "source": [
        "# Principal Component Analysis"
      ],
      "metadata": {
        "id": "LtoV-bFhV76u"
      }
    },
    {
      "cell_type": "code",
      "source": [
        "X_std = StandardScaler().fit_transform(X)\n",
        "cov_matrix = np.cov(X_std, rowvar=False)\n",
        "pca = PCA()\n",
        "principal_components = pca.fit_transform(X_std)"
      ],
      "metadata": {
        "id": "jTA2ZbI-V__b"
      },
      "execution_count": null,
      "outputs": []
    },
    {
      "cell_type": "markdown",
      "source": [
        "## Varianza Acumulada"
      ],
      "metadata": {
        "id": "4bl6lH3IWEu-"
      }
    },
    {
      "cell_type": "code",
      "source": [
        "explained_variance_ratio_cumsum = np.cumsum(pca.explained_variance_ratio_)\n",
        "print(\"Varianza explicada por cada componente principal:\", explained_variance_ratio_cumsum)"
      ],
      "metadata": {
        "id": "cSNr8Wu6WG-a"
      },
      "execution_count": null,
      "outputs": []
    },
    {
      "cell_type": "code",
      "source": [
        "plt.figure(figsize=(10, 6))\n",
        "plt.plot(range(1, len(explained_variance_ratio_cumsum)+1), explained_variance_ratio_cumsum, marker='o', linestyle='--')\n",
        "plt.title('Proporción Acumulativa de Varianza Explicada')\n",
        "plt.xlabel('Número de Componentes Principales')\n",
        "plt.ylabel('Proporción Acumulativa de Varianza')\n",
        "plt.grid(True)\n",
        "plt.show()"
      ],
      "metadata": {
        "id": "pXMpPjzKWJF8"
      },
      "execution_count": null,
      "outputs": []
    },
    {
      "cell_type": "markdown",
      "source": [
        "## Selección de Número de Componentes"
      ],
      "metadata": {
        "id": "viiu37reWMFZ"
      }
    },
    {
      "cell_type": "code",
      "source": [
        "n_components = 13\n",
        "pca = PCA(n_components=n_components)\n",
        "X_train_pca = pca.fit_transform(X_train_minmax)\n",
        "X_test_pca = pca.transform(X_test_minmax)"
      ],
      "metadata": {
        "id": "eZQ2k-GiWMr3"
      },
      "execution_count": null,
      "outputs": []
    }
  ]
}