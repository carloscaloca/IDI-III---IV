{
  "nbformat": 4,
  "nbformat_minor": 0,
  "metadata": {
    "colab": {
      "provenance": [],
      "toc_visible": true
    },
    "kernelspec": {
      "name": "python3",
      "display_name": "Python 3"
    },
    "language_info": {
      "name": "python"
    }
  },
  "cells": [
    {
      "cell_type": "markdown",
      "source": [
        "## Identificación de Valores Faltantes"
      ],
      "metadata": {
        "id": "pUl64hsNVnOO"
      }
    },
    {
      "cell_type": "code",
      "source": [
        "missing_values_count = df.isnull().sum()\n",
        "print(missing_values_count)\n",
        "np.shape(df)"
      ],
      "metadata": {
        "id": "aayhMOubVuIN"
      },
      "execution_count": null,
      "outputs": []
    },
    {
      "cell_type": "code",
      "source": [
        "df = df.dropna()"
      ],
      "metadata": {
        "id": "-qnm3yhpWH2N"
      },
      "execution_count": null,
      "outputs": []
    },
    {
      "cell_type": "code",
      "source": [
        "df.drop('Open', axis=1, inplace=True)\n",
        "df.drop('High', axis=1, inplace=True)\n",
        "df.drop('Low', axis=1, inplace=True)\n",
        "df.drop('Close', axis=1, inplace=True)\n",
        "df.drop('Ignore', axis=1, inplace=True)"
      ],
      "metadata": {
        "id": "euOZAoQrWKSV"
      },
      "execution_count": null,
      "outputs": []
    },
    {
      "cell_type": "code",
      "source": [
        "df_filled = df.fillna(0)\n",
        "new_df = df_filled.copy()"
      ],
      "metadata": {
        "id": "24gCt0XnV6RC"
      },
      "execution_count": null,
      "outputs": []
    },
    {
      "cell_type": "markdown",
      "source": [
        "## División de Datos en Entrenamiento y Prueba"
      ],
      "metadata": {
        "id": "9J51tHJYVrP5"
      }
    },
    {
      "cell_type": "code",
      "source": [
        "X = new_df.drop(['Response'], axis=1)\n",
        "y = new_df['Response']"
      ],
      "metadata": {
        "id": "PEO2li2hWaCd"
      },
      "execution_count": null,
      "outputs": []
    },
    {
      "cell_type": "code",
      "source": [
        "X.info()"
      ],
      "metadata": {
        "id": "UmdNlC1JWeMY"
      },
      "execution_count": null,
      "outputs": []
    },
    {
      "cell_type": "code",
      "source": [
        "X_train, X_test, y_train, y_test = train_test_split(X,y, test_size = 0.2,random_state = 1)"
      ],
      "metadata": {
        "id": "qPtuR_rIWkqW"
      },
      "execution_count": null,
      "outputs": []
    },
    {
      "cell_type": "markdown",
      "source": [
        "## Escalado"
      ],
      "metadata": {
        "id": "xgcUi7ZRV4aa"
      }
    },
    {
      "cell_type": "code",
      "source": [
        "X[np.isinf(X)] = 0"
      ],
      "metadata": {
        "id": "vbnQcMOPWoLA"
      },
      "execution_count": null,
      "outputs": []
    },
    {
      "cell_type": "code",
      "source": [
        "scaler = preprocessing.MinMaxScaler()\n",
        "X_scaled = scaler.fit_transform(X)"
      ],
      "metadata": {
        "id": "j92by5sTWqiV"
      },
      "execution_count": null,
      "outputs": []
    },
    {
      "cell_type": "markdown",
      "source": [
        "# Principal Component Analysis"
      ],
      "metadata": {
        "id": "LtoV-bFhV76u"
      }
    },
    {
      "cell_type": "code",
      "source": [
        "X_std = StandardScaler().fit_transform(X)\n",
        "cov_matrix = np.cov(X_std, rowvar=False)\n",
        "pca = PCA()\n",
        "principal_components = pca.fit_transform(X_std)"
      ],
      "metadata": {
        "id": "bptJqKysWs6l"
      },
      "execution_count": null,
      "outputs": []
    },
    {
      "cell_type": "markdown",
      "source": [
        "## Varianza Acumulada"
      ],
      "metadata": {
        "id": "4bl6lH3IWEu-"
      }
    },
    {
      "cell_type": "code",
      "source": [
        "explained_variance_ratio_cumsum = np.cumsum(pca.explained_variance_ratio_)\n",
        "print(\"Varianza explicada por cada componente principal:\", explained_variance_ratio_cumsum)\n",
        "\n",
        "plt.figure(figsize=(10, 6))\n",
        "plt.plot(range(1, len(explained_variance_ratio_cumsum)+1), explained_variance_ratio_cumsum, marker='o', linestyle='--')\n",
        "#plt.title('Proporción Acumulativa de Varianza Explicada')\n",
        "plt.xlabel('Número de Componentes Principales')\n",
        "plt.ylabel('Proporción Acumulativa de Varianza')\n",
        "plt.grid(True)\n",
        "plt.show()"
      ],
      "metadata": {
        "id": "ukb-GdzyWy7D"
      },
      "execution_count": null,
      "outputs": []
    },
    {
      "cell_type": "markdown",
      "source": [
        "## Selección de Número de Componentes"
      ],
      "metadata": {
        "id": "viiu37reWMFZ"
      }
    },
    {
      "cell_type": "code",
      "source": [
        "n_components = 30\n",
        "pca = PCA(n_components=n_components)\n",
        "X_train_pca = pca.fit_transform(X_train)\n",
        "X_test_pca = pca.transform(X_test)"
      ],
      "metadata": {
        "id": "-nasPgb7W1k9"
      },
      "execution_count": null,
      "outputs": []
    }
  ]
}
