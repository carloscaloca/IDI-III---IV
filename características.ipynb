{
  "nbformat": 4,
  "nbformat_minor": 0,
  "metadata": {
    "colab": {
      "provenance": []
    },
    "kernelspec": {
      "name": "python3",
      "display_name": "Python 3"
    },
    "language_info": {
      "name": "python"
    }
  },
  "cells": [
    {
      "cell_type": "code",
      "execution_count": null,
      "metadata": {
        "id": "FiEJoYc0dmf7"
      },
      "outputs": [],
      "source": [
        "df.set_index('Open_time', inplace=True)\n",
        "df.drop('Close_time', axis=1, inplace=True)\n"
      ]
    },
    {
      "cell_type": "markdown",
      "source": [
        "## Características Lineales"
      ],
      "metadata": {
        "id": "2mYYEmGfeByy"
      }
    },
    {
      "cell_type": "code",
      "source": [
        "df['co'] = df['Close'].shift(-1) - df['Open']\n",
        "df['hl'] = df['High'].shift(-1) - df['Low']\n",
        "df['ol'] = df['Open'].shift(-1) - df['Low']\n",
        "df['ho'] = df['High'].shift(-1) - df['Open']\n",
        "df['cov'] = df['co'] / df['Volume']\n",
        "df['hlv'] = df['hl'] / df['Volume']"
      ],
      "metadata": {
        "id": "V96Qi24leBZr"
      },
      "execution_count": null,
      "outputs": []
    },
    {
      "cell_type": "markdown",
      "source": [
        "## Características Autorregresivas"
      ],
      "metadata": {
        "id": "zXs3ebuSeEEt"
      }
    },
    {
      "cell_type": "code",
      "source": [
        "df['ma_ol_2'] = df['ol'].rolling(2).mean()\n",
        "df['ma_ho_2'] = df['ho'].rolling(2).mean()\n",
        "df['ma_hl_2'] = df['hl'].rolling(2).mean()\n",
        "df['ma_hlv_2'] = df['hlv'].rolling(2).mean()\n",
        "df['ma_cov_2'] = df['cov'].rolling(2).mean()\n",
        "\n",
        "df['sd_ol_2'] = df['ol'].rolling(2).std()\n",
        "df['sd_ho_2'] = df['ho'].rolling(2).std()\n",
        "df['sd_hl_2'] = df['hl'].rolling(2).std()\n",
        "df['sd_hlv_2'] = df['hlv'].rolling(2).std()\n",
        "df['sd_cov_2'] = df['cov'].rolling(2).std()\n",
        "\n",
        "df['lag_vol_2'] = df['Volume'].shift(2)\n",
        "df['sum_vol_2'] = df['Volume'].rolling(2).sum()\n",
        "df['mean_vol_2'] = df['Volume'].rolling(2).mean()\n",
        "\n",
        "df['ma_ol_3'] = df['ol'].rolling(3).mean()\n",
        "df['ma_ho_3'] = df['ho'].rolling(3).mean()\n",
        "df['ma_hl_3'] = df['hl'].rolling(3).mean()\n",
        "df['ma_hlv_3'] = df['hlv'].rolling(3).mean()\n",
        "df['ma_cov_3'] = df['cov'].rolling(3).mean()\n",
        "\n",
        "df['sd_ol_3'] = df['ol'].rolling(3).std()\n",
        "df['sd_ho_3'] = df['ho'].rolling(3).std()\n",
        "df['sd_hl_3'] = df['hl'].rolling(3).std()\n",
        "df['sd_hlv_3'] = df['hlv'].rolling(3).std()\n",
        "df['sd_cov_3'] = df['cov'].rolling(3).std()\n",
        "\n",
        "df['lag_vol_3'] = df['Volume'].shift(3)\n",
        "df['sum_vol_3'] = df['Volume'].rolling(3).sum()\n",
        "df['mean_vol_3'] = df['Volume'].rolling(3).mean()"
      ],
      "metadata": {
        "id": "308Dm8pZeGDa"
      },
      "execution_count": null,
      "outputs": []
    },
    {
      "cell_type": "markdown",
      "source": [
        "## Correlación"
      ],
      "metadata": {
        "id": "nU0iinV6ePxr"
      }
    },
    {
      "cell_type": "code",
      "source": [
        "df_corr = df_filled\n",
        "correlation_matrix = df_corr.corr()\n",
        "\n",
        "\n",
        "sns.heatmap(correlation_matrix, annot=True, cmap='coolwarm', fmt=\".2f\", linewidths=.5)\n",
        "#plt.title('Matriz de Correlación')\n",
        "plt.show()"
      ],
      "metadata": {
        "id": "zoVekc6uePbs"
      },
      "execution_count": null,
      "outputs": []
    }
  ]
}