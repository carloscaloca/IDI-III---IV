{
  "nbformat": 4,
  "nbformat_minor": 0,
  "metadata": {
    "colab": {
      "provenance": []
    },
    "kernelspec": {
      "name": "python3",
      "display_name": "Python 3"
    },
    "language_info": {
      "name": "python"
    }
  },
  "cells": [
    {
      "cell_type": "markdown",
      "source": [
        "## Modelo en SKLearn"
      ],
      "metadata": {
        "id": "3D4YOHfSZOrM"
      }
    },
    {
      "cell_type": "code",
      "execution_count": null,
      "metadata": {
        "id": "ZaDY6xxzZKhe"
      },
      "outputs": [],
      "source": [
        "lrmodel = LogisticRegression()"
      ]
    },
    {
      "cell_type": "markdown",
      "source": [
        "## Definición de Parámetros"
      ],
      "metadata": {
        "id": "6gPSTEyUZRCs"
      }
    },
    {
      "cell_type": "code",
      "source": [
        "solvers = ['newton-cg','liblinear','lbfgs']\n",
        "penalty = ['l2','l1', 'elasticnet']\n",
        "c_values = [100, 10, 1.0, 0.1, 0.01]"
      ],
      "metadata": {
        "id": "jxeFvDo1ZTRq"
      },
      "execution_count": null,
      "outputs": []
    },
    {
      "cell_type": "markdown",
      "source": [
        "## Espacio de Búsqueda de Hiperparámetros"
      ],
      "metadata": {
        "id": "HcRKjY8oZXAL"
      }
    },
    {
      "cell_type": "code",
      "source": [
        "grid = dict(solver=solvers,penalty=penalty,C=c_values)\n",
        "cv = RepeatedStratifiedKFold(n_splits=5,\n",
        "                             n_repeats=5,\n",
        "                             random_state=1)\n",
        "\n",
        "grid_search = GridSearchCV(estimator=lrmodel,\n",
        "                           param_grid=grid,\n",
        "                           n_jobs=-1, cv=3,\n",
        "                           scoring='accuracy',\n",
        "                           error_score=0)\n",
        "\n",
        "grid_result = grid_search.fit(principal_components, y)\n",
        "\n",
        "print(\"Best: %f using %s\" % (grid_result.best_score_,\n",
        "                             grid_result.best_params_))\n",
        "\n",
        "means = grid_result.cv_results_['mean_test_score']\n",
        "stds = grid_result.cv_results_['std_test_score']\n",
        "params = grid_result.cv_results_['params']"
      ],
      "metadata": {
        "id": "l3LYe38fZXze"
      },
      "execution_count": null,
      "outputs": []
    },
    {
      "cell_type": "markdown",
      "source": [
        "## Modelo Final"
      ],
      "metadata": {
        "id": "01EhrGmBZk0A"
      }
    },
    {
      "cell_type": "code",
      "source": [
        "logreg = LogisticRegression(solver = 'liblinear',\n",
        "                            penalty='l2',\n",
        "                            C=100)\n",
        "logreg.fit(X_train_pca, y_train)"
      ],
      "metadata": {
        "id": "WiF3jpPTZlnV"
      },
      "execution_count": null,
      "outputs": []
    },
    {
      "cell_type": "markdown",
      "source": [
        "## Predicción"
      ],
      "metadata": {
        "id": "oyblXyyiZpU8"
      }
    },
    {
      "cell_type": "code",
      "source": [
        "y_pred_lr = logreg.predict(X_test_pca)\n",
        "print('Accuracy of logistic regression classifier on train set: {:.2f}'.format(logreg.score(X_train_pca,\n",
        "                                                                                            y_train)))\n",
        "\n",
        "print('Accuracy of logistic regression classifier on test set: {:.2f}'.format(logreg.score(X_test_pca,\n",
        "                                                                                           y_test)))\n",
        "\n",
        "print('Precision of logistic regression classifier on test set: {:.2f}'.format(precision_score(y_test,\n",
        "                                                                                               y_pred_lr)))"
      ],
      "metadata": {
        "id": "UvKnnL_eZqzr"
      },
      "execution_count": null,
      "outputs": []
    },
    {
      "cell_type": "markdown",
      "source": [
        "### Métricas"
      ],
      "metadata": {
        "id": "jCPLWXMaZ1jL"
      }
    },
    {
      "cell_type": "code",
      "source": [
        "accuracy_lr = accuracy_score(y_test, y_pred_lr)\n",
        "precision_lr = precision_score(y_test, y_pred_lr)\n",
        "recall_lr = recall_score(y_test, y_pred_lr)\n",
        "f1_score_lr = f1_score(y_test, y_pred_lr)\n",
        "conf_matrix = confusion_matrix(y_test, y_pred_lr)\n",
        "print(accuracy_lr, precision_lr, recall_lr, f1_score_lr, conf_matrix)"
      ],
      "metadata": {
        "id": "3O0gBvDuZ2A4"
      },
      "execution_count": null,
      "outputs": []
    },
    {
      "cell_type": "code",
      "source": [
        "y_scores_lr = logreg.predict_proba(X_test_pca)[:, 1]\n",
        "fpr_lr, tpr_lr, thresholds_lr = roc_curve(y_test, y_scores_lr)\n",
        "auc_roc_lr = roc_auc_score(y_test, y_scores_lr)\n",
        "\n",
        "plt.figure(figsize=(8, 8))\n",
        "plt.plot(fpr_lr, tpr_lr, color='blue', lw=2, label=f'AUC = {auc_roc_lr:.2f}')\n",
        "plt.plot([0, 1], [0, 1], color='green', lw=2, linestyle='--')\n",
        "plt.xlim([0.0, 1.0])\n",
        "plt.ylim([0.0, 1.05])\n",
        "plt.xlabel('Tasa de Falsos Positivos (1 - Especificidad)')\n",
        "plt.ylabel('Tasa de Verdaderos Positivos (Sensibilidad)')\n",
        "plt.title('Curva ROC')\n",
        "plt.legend(loc=\"lower right\")\n",
        "plt.show()"
      ],
      "metadata": {
        "id": "LjVX_pL1Z7ZF"
      },
      "execution_count": null,
      "outputs": []
    }
  ]
}