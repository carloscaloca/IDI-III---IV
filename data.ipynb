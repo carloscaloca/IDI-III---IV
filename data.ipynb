{
  "nbformat": 4,
  "nbformat_minor": 0,
  "metadata": {
    "colab": {
      "provenance": [],
      "toc_visible": true
    },
    "kernelspec": {
      "name": "python3",
      "display_name": "Python 3"
    },
    "language_info": {
      "name": "python"
    }
  },
  "cells": [
    {
      "cell_type": "markdown",
      "source": [
        "## Importación de Datos"
      ],
      "metadata": {
        "id": "4LvzLlP-Q_6F"
      }
    },
    {
      "cell_type": "code",
      "execution_count": null,
      "metadata": {
        "id": "A6kvxDPHQ17y"
      },
      "outputs": [],
      "source": [
        "ruta = '/content/drive/MyDrive/TOG/IDI III/Datos/'\n",
        "df = pd.read_excel(ruta+\"datos_klines.xlsx\")"
      ]
    },
    {
      "cell_type": "markdown",
      "source": [
        "## Visualización y Descripción de 'datos'"
      ],
      "metadata": {
        "id": "MQ13gl_-RDLo"
      }
    },
    {
      "cell_type": "code",
      "source": [
        "df.head()"
      ],
      "metadata": {
        "id": "vVCkSLMURGKg"
      },
      "execution_count": null,
      "outputs": []
    },
    {
      "cell_type": "code",
      "source": [
        "df.columns = ['Open_time','Open','High','Low','Close',\n",
        "                'Volume','Close_time','Quote_asset_volume',\n",
        "                'Number_of_trades','Taker_buy_base_asset_volume',\n",
        "                'Taker_buy_quote_asset_volume','Ignore','Response']"
      ],
      "metadata": {
        "id": "qySrl3WjRUKS"
      },
      "execution_count": null,
      "outputs": []
    },
    {
      "cell_type": "markdown",
      "source": [
        "Información de 'data'"
      ],
      "metadata": {
        "id": "-abd0TcPRX4o"
      }
    },
    {
      "cell_type": "code",
      "source": [
        "df.info()"
      ],
      "metadata": {
        "id": "4oZSYJOhRYYz"
      },
      "execution_count": null,
      "outputs": []
    },
    {
      "cell_type": "code",
      "source": [
        "df.describe()"
      ],
      "metadata": {
        "id": "ULuDhakqbioj"
      },
      "execution_count": null,
      "outputs": []
    },
    {
      "cell_type": "markdown",
      "source": [
        "## Conversión 'unix'"
      ],
      "metadata": {
        "id": "wk9UbGBERcpe"
      }
    },
    {
      "cell_type": "code",
      "source": [
        "df['Open_time'] = pd.to_datetime(df['Open_time'], unit='ms', origin='unix')\n",
        "df['Close_time'] = pd.to_datetime(df['Close_time'], unit='ms',origin='unix')"
      ],
      "metadata": {
        "id": "hPlCUwsiRdU2"
      },
      "execution_count": null,
      "outputs": []
    },
    {
      "cell_type": "markdown",
      "source": [
        "## Análisis Exploratorio"
      ],
      "metadata": {
        "id": "HlJkt-saRrmD"
      }
    },
    {
      "cell_type": "code",
      "source": [
        "df.hist()"
      ],
      "metadata": {
        "id": "rAdmqdcXRy3r"
      },
      "execution_count": null,
      "outputs": []
    },
    {
      "cell_type": "markdown",
      "source": [
        "### Simetría y Curtosis"
      ],
      "metadata": {
        "id": "mGzZE0paR54t"
      }
    },
    {
      "cell_type": "code",
      "source": [
        "df.skew()"
      ],
      "metadata": {
        "id": "04NRsoJkR6lo"
      },
      "execution_count": null,
      "outputs": []
    },
    {
      "cell_type": "code",
      "source": [
        "df.kurt()"
      ],
      "metadata": {
        "id": "YLQEgHrJR9OB"
      },
      "execution_count": null,
      "outputs": []
    },
    {
      "cell_type": "code",
      "source": [
        "sns.countplot(x='Response', data=df)\n",
        "plt.title('Distribución de la Variable Objetivo')\n",
        "plt.show()"
      ],
      "metadata": {
        "id": "u0tyWNOnR_Vx"
      },
      "execution_count": null,
      "outputs": []
    },
    {
      "cell_type": "markdown",
      "source": [
        "Se puede visualizar variables altamente correlacionadas entre sí."
      ],
      "metadata": {
        "id": "XBnUrS9BSC3E"
      }
    },
    {
      "cell_type": "markdown",
      "source": [
        "### Visualización de Datos"
      ],
      "metadata": {
        "id": "QVLmA_ZFSb7x"
      }
    },
    {
      "cell_type": "code",
      "source": [
        "sns.countplot(x='Response', data=df)\n",
        "plt.show()"
      ],
      "metadata": {
        "id": "4EXjamW9b-6v"
      },
      "execution_count": null,
      "outputs": []
    },
    {
      "cell_type": "code",
      "source": [
        "fig = go.Figure(data=[go.Candlestick(x=df['Open_time'],\n",
        "                                     open=df['Open'],\n",
        "                                     high=df['High'],\n",
        "                                     low=df['Low'],\n",
        "                                     close=df['Close'])])\n",
        "fig.show()"
      ],
      "metadata": {
        "id": "8hZTjRkacB4E"
      },
      "execution_count": null,
      "outputs": []
    },
    {
      "cell_type": "markdown",
      "source": [
        "## Dividiendo Tiempo"
      ],
      "metadata": {
        "id": "tbtQiUcAcG7B"
      }
    },
    {
      "cell_type": "code",
      "source": [
        "df.set_index('Open_time', inplace = True)\n",
        "df['day_of_week'] = df.index.dayofweek\n",
        "df['hour_of_day'] = df.index.hour\n",
        "df['month'] = df.index.month"
      ],
      "metadata": {
        "id": "nM5Tw_aycIrH"
      },
      "execution_count": null,
      "outputs": []
    },
    {
      "cell_type": "markdown",
      "source": [
        "## Datos Atípicos"
      ],
      "metadata": {
        "id": "zKNOMbU4cR9D"
      }
    },
    {
      "cell_type": "code",
      "source": [
        "q1=df.quantile(0.25)\n",
        "q3=df.quantile(0.75)\n",
        "iqr=q3-q1\n",
        "iqr"
      ],
      "metadata": {
        "id": "vCtIMtLxcTx9"
      },
      "execution_count": null,
      "outputs": []
    },
    {
      "cell_type": "code",
      "source": [
        "sns.boxplot(data = df[['Open','High','Low','Close']])\n",
        "sns.boxplot(data = df[['Volume','Number_of_trades']])\n",
        "sns.boxplot(data = df[['Quote_asset_volume','Taker_buy_quote_asset_volume']])\n",
        "sns.boxplot(data = df['Taker_buy_base_asset_volume'])"
      ],
      "metadata": {
        "id": "x_PjrKB4cVOx"
      },
      "execution_count": null,
      "outputs": []
    },
    {
      "cell_type": "markdown",
      "source": [
        "## Ajuste de Distribución de Probabilidad Empírica"
      ],
      "metadata": {
        "id": "76b0npXCce0H"
      }
    },
    {
      "cell_type": "code",
      "source": [
        "datos = df['variable']\n",
        "\n",
        "distribuciones = ['gamma', 'expon', 'lognorm', 'beta', 'norm']\n",
        "resultados_evaluacion = []\n",
        "mejor_distribucion = None\n",
        "mejor_parametros = None\n",
        "mejor_sse = float('inf')\n",
        "\n",
        "for distribucion in distribuciones:\n",
        "\n",
        "    distribucion_actual = getattr(stats, distribucion)\n",
        "    parametros = distribucion_actual.fit(datos)\n",
        "\n",
        "\n",
        "    sse = sum((distribucion_actual.pdf(datos, *parametros) - datos)**2)\n",
        "\n",
        "\n",
        "    n = len(datos)\n",
        "    k = len(parametros)\n",
        "    aic = n * np.log(sse / n) + 2 * k\n",
        "    bic = n * np.log(sse / n) + k * np.log(n)\n",
        "\n",
        "    resultados_evaluacion.append({\n",
        "        'Distribución': distribucion,\n",
        "        'SSE': sse,\n",
        "        'AIC': aic,\n",
        "        'BIC': bic\n",
        "    })\n",
        "\n",
        "    if sse < mejor_sse:\n",
        "        mejor_distribucion = distribucion_actual\n",
        "        mejor_parametros = parametros\n",
        "        mejor_sse = sse\n",
        "\n",
        "df_resultados = pd.DataFrame(resultados_evaluacion)\n",
        "\n",
        "sns.set(style=\"whitegrid\")\n",
        "\n",
        "\n",
        "plt.figure(figsize=(10, 6))\n",
        "sns.histplot(datos_taker_quote, bins=30, kde=True, color='skyblue', label='Datos', stat='density')\n",
        "x = np.linspace(datos_taker_quote.min(), datos_taker_quote.max(), 100)\n",
        "pdf = mejor_distribucion.pdf(x, *mejor_parametros)\n",
        "plt.plot(x, pdf, 'r-', linewidth=2, label='Distribución Mejor Ajustada')\n",
        "plt.xlabel('Variable')\n",
        "plt.ylabel('Densidad de Probabilidad')\n",
        "plt.title('Ajuste de Distribución a Variable')\n",
        "plt.legend()\n",
        "plt.show()"
      ],
      "metadata": {
        "id": "Xuyi64pwcjsz"
      },
      "execution_count": null,
      "outputs": []
    }
  ]
}
