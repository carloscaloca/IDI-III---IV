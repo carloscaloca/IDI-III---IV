{
  "nbformat": 4,
  "nbformat_minor": 0,
  "metadata": {
    "colab": {
      "provenance": [],
      "toc_visible": true
    },
    "kernelspec": {
      "name": "python3",
      "display_name": "Python 3"
    },
    "language_info": {
      "name": "python"
    }
  },
  "cells": [
    {
      "cell_type": "markdown",
      "source": [
        "## Importación de Datos"
      ],
      "metadata": {
        "id": "4LvzLlP-Q_6F"
      }
    },
    {
      "cell_type": "code",
      "execution_count": null,
      "metadata": {
        "id": "A6kvxDPHQ17y"
      },
      "outputs": [],
      "source": [
        "ruta = '/content/drive/MyDrive/TOG/IDI III/Datos/'\n",
        "df = pd.read_excel(ruta+\"datos_klines.xlsx\")"
      ]
    },
    {
      "cell_type": "markdown",
      "source": [
        "Visualización de 'datos'"
      ],
      "metadata": {
        "id": "MQ13gl_-RDLo"
      }
    },
    {
      "cell_type": "code",
      "source": [
        "df.head()"
      ],
      "metadata": {
        "id": "vVCkSLMURGKg"
      },
      "execution_count": null,
      "outputs": []
    },
    {
      "cell_type": "markdown",
      "source": [
        "Nombrar las columnas"
      ],
      "metadata": {
        "id": "Kq9QWHMXRSxh"
      }
    },
    {
      "cell_type": "code",
      "source": [
        "df.columns = ['Open_time','Open','High','Low','Close',\n",
        "                'Volume','Close_time','Quote_asset_volume',\n",
        "                'Number_of_trades','Taker_buy_base_asset_volume',\n",
        "                'Taker_buy_quote_asset_volume','Ignore','Response']"
      ],
      "metadata": {
        "id": "qySrl3WjRUKS"
      },
      "execution_count": null,
      "outputs": []
    },
    {
      "cell_type": "markdown",
      "source": [
        "Información de 'data'"
      ],
      "metadata": {
        "id": "-abd0TcPRX4o"
      }
    },
    {
      "cell_type": "code",
      "source": [
        "df.info()"
      ],
      "metadata": {
        "id": "4oZSYJOhRYYz"
      },
      "execution_count": null,
      "outputs": []
    },
    {
      "cell_type": "markdown",
      "source": [
        "## Conversión 'unix'"
      ],
      "metadata": {
        "id": "wk9UbGBERcpe"
      }
    },
    {
      "cell_type": "code",
      "source": [
        "df['Open_time'] = pd.to_datetime(df['Open_time'], unit='ms', origin='unix')\n",
        "df['Close_time'] = pd.to_datetime(df['Close_time'], unit='ms',origin='unix')"
      ],
      "metadata": {
        "id": "hPlCUwsiRdU2"
      },
      "execution_count": null,
      "outputs": []
    },
    {
      "cell_type": "markdown",
      "source": [
        "## Análisis Exploratorio"
      ],
      "metadata": {
        "id": "HlJkt-saRrmD"
      }
    },
    {
      "cell_type": "markdown",
      "source": [
        "Definición de los parámetros de los gráficos"
      ],
      "metadata": {
        "id": "yMTrSMs3RuZY"
      }
    },
    {
      "cell_type": "code",
      "source": [
        "plt.rcParams.update({'font.size': 11, 'figure.figsize': (20, 13)})\n",
        "plt.style.use('ggplot')"
      ],
      "metadata": {
        "id": "P4TaIeicRsBU"
      },
      "execution_count": null,
      "outputs": []
    },
    {
      "cell_type": "markdown",
      "source": [
        "### ¿Cómo están distribuidos los datos?"
      ],
      "metadata": {
        "id": "13xvaywURw8M"
      }
    },
    {
      "cell_type": "code",
      "source": [
        "df.hist()"
      ],
      "metadata": {
        "id": "rAdmqdcXRy3r"
      },
      "execution_count": null,
      "outputs": []
    },
    {
      "cell_type": "markdown",
      "source": [
        "Con la información que se tiene hasta el momento podemos determinar lo siguiente:\n",
        "- 'Open_time' y 'Close_time' se comportan de la misma manera como pudiera esperarse ya que únicamente son \"timestamps\"\n",
        "- 'Open' y 'Close',siendo valores de precio de apertura y cierre por hora, comparten la misma figura de su distribución. Esto es debido a que el precio de Cierre en la hora t será el mismo precio que el de apertura en el tiempo t+1\n",
        "- Las distribuciones de 'High' y 'Low' son bastante parecidas pero se alcanza a percibir una diferencia alrededor de los valores de 1800 en el eje x\n",
        "- 3 distribuciones son bastante similares (a simple vista no se encuentran diferencias significativas) 'Number of trades', 'Taker buy base asset volume', 'taker buy quote asset volume'\n",
        "- La variable 'Ignore' siempre se encuentra en los mismos valores\n",
        "- La variable de respuesta (subida o bajada de precio) presenta frecuencias similares"
      ],
      "metadata": {
        "id": "W-vTspEjR3KI"
      }
    },
    {
      "cell_type": "markdown",
      "source": [
        "### Simetría y Curtosis"
      ],
      "metadata": {
        "id": "mGzZE0paR54t"
      }
    },
    {
      "cell_type": "code",
      "source": [
        "df.skew()"
      ],
      "metadata": {
        "id": "04NRsoJkR6lo"
      },
      "execution_count": null,
      "outputs": []
    },
    {
      "cell_type": "code",
      "source": [
        "df.kurt()"
      ],
      "metadata": {
        "id": "YLQEgHrJR9OB"
      },
      "execution_count": null,
      "outputs": []
    },
    {
      "cell_type": "code",
      "source": [
        "sns.countplot(x='Response', data=df)\n",
        "plt.title('Distribución de la Variable Objetivo')\n",
        "plt.show()"
      ],
      "metadata": {
        "id": "u0tyWNOnR_Vx"
      },
      "execution_count": null,
      "outputs": []
    },
    {
      "cell_type": "markdown",
      "source": [
        "Se puede visualizar variables altamente correlacionadas entre sí."
      ],
      "metadata": {
        "id": "XBnUrS9BSC3E"
      }
    },
    {
      "cell_type": "markdown",
      "source": [
        "### Visualización de Datos"
      ],
      "metadata": {
        "id": "QVLmA_ZFSb7x"
      }
    },
    {
      "cell_type": "markdown",
      "source": [
        "¿Cómo se comporta el precio de apertura a lo largo del tiempo?"
      ],
      "metadata": {
        "id": "mj7IbCeQSFLp"
      }
    },
    {
      "cell_type": "code",
      "source": [
        "df.plot(kind='scatter', x='Open_time', y='Open', s=32, alpha=.8)\n",
        "plt.gca().spines[['top', 'right',]].set_visible(False)"
      ],
      "metadata": {
        "id": "QKDu1VpRSCHy"
      },
      "execution_count": null,
      "outputs": []
    },
    {
      "cell_type": "markdown",
      "source": [
        "Se observa que incrementa el precio y por algunos periodos de tiempo permanece entre un rango, baja el valor y luego vuelve a iniciar el mismo ciclo. A grandes rasgos se observa que el precio de apertura esta en crecimiento."
      ],
      "metadata": {
        "id": "EusrPu-xSI8o"
      }
    },
    {
      "cell_type": "markdown",
      "source": [
        "¿Cómo se comporta el precio de apertura a comparación de el precio Alto a lo largo del tiempo?"
      ],
      "metadata": {
        "id": "-T5BpNa-SLli"
      }
    },
    {
      "cell_type": "code",
      "source": [
        "df.plot(kind='scatter', x='Open', y='High', s=32, alpha=.8)\n",
        "plt.gca().spines[['top', 'right',]].set_visible(False)"
      ],
      "metadata": {
        "id": "eKM7Hlr4SJnV"
      },
      "execution_count": null,
      "outputs": []
    },
    {
      "cell_type": "markdown",
      "source": [
        "Se aprecia que en muchas partes el precio de Apertura y el precio Alto es el mismo."
      ],
      "metadata": {
        "id": "uQQzsFJMSPWh"
      }
    },
    {
      "cell_type": "markdown",
      "source": [
        "¿Cómo se comporta el precio de Alto a comparación del precio Bajo a lo largo del tiempo?"
      ],
      "metadata": {
        "id": "5ZZBBJs1SRC2"
      }
    },
    {
      "cell_type": "code",
      "source": [
        "df.plot(kind='scatter', x='High', y='Low', s=32, alpha=.8)\n",
        "plt.gca().spines[['top', 'right',]].set_visible(False)"
      ],
      "metadata": {
        "id": "AgJmTZOtSTOc"
      },
      "execution_count": null,
      "outputs": []
    },
    {
      "cell_type": "markdown",
      "source": [
        "Se observa que en muchas ocaciones el precio Alto es igual al precio Bajo."
      ],
      "metadata": {
        "id": "LnIYXDthSW3h"
      }
    },
    {
      "cell_type": "markdown",
      "source": [
        "¿Cómo se comporta el precio de Bajo a comparación del precio de Cierre a lo largo del tiempo?"
      ],
      "metadata": {
        "id": "zaU9o6KSSkql"
      }
    },
    {
      "cell_type": "code",
      "source": [
        "df.plot(kind='scatter', x='Low', y='Close', s=32, alpha=.8)\n",
        "plt.gca().spines[['top', 'right',]].set_visible(False)"
      ],
      "metadata": {
        "id": "aAWb0TzOSlLT"
      },
      "execution_count": null,
      "outputs": []
    },
    {
      "cell_type": "markdown",
      "source": [
        "Se presenta el mismo fenómeno que en las visualizaciones pasadas, hay precios que son iguales en distintos tiempos."
      ],
      "metadata": {
        "id": "UXRxcHm4TNt3"
      }
    },
    {
      "cell_type": "markdown",
      "source": [
        "¿Cómo se vería la concentración de Volumen con respecto al precio de Cierre?"
      ],
      "metadata": {
        "id": "udBvdQHgTP8Q"
      }
    },
    {
      "cell_type": "code",
      "source": [
        "df.plot(kind='scatter', x='Close', y='Volume', s=32, alpha=.8)\n",
        "plt.gca().spines[['top', 'right',]].set_visible(False)"
      ],
      "metadata": {
        "id": "SeOlRT5vTRFi"
      },
      "execution_count": null,
      "outputs": []
    },
    {
      "cell_type": "markdown",
      "source": [
        "Se observa que hay volumenes menores entre los precios de 1500 y 2000."
      ],
      "metadata": {
        "id": "oQM-_yBVTWun"
      }
    },
    {
      "cell_type": "markdown",
      "source": [
        "### ¿Cómo cambiaría las visualizaciones si agregaramos variables/características tomando en cuenta la fecha?"
      ],
      "metadata": {
        "id": "6v8JpEcDTY8T"
      }
    },
    {
      "cell_type": "markdown",
      "source": [
        "Dividiendo 'Open Time'"
      ],
      "metadata": {
        "id": "JgBdt54bTbSZ"
      }
    },
    {
      "cell_type": "code",
      "source": [
        "df.set_index('Open_time', inplace = True)"
      ],
      "metadata": {
        "id": "ZCrLv2_wTdg-"
      },
      "execution_count": null,
      "outputs": []
    },
    {
      "cell_type": "markdown",
      "source": [
        "Día de la Semana"
      ],
      "metadata": {
        "id": "SJEeGwCgThAj"
      }
    },
    {
      "cell_type": "code",
      "source": [
        "df['day_of_week'] = df.index.dayofweek"
      ],
      "metadata": {
        "id": "eSar8PU0ThXO"
      },
      "execution_count": null,
      "outputs": []
    },
    {
      "cell_type": "markdown",
      "source": [
        "Hora del Día"
      ],
      "metadata": {
        "id": "FgIQ4tbVTlqa"
      }
    },
    {
      "cell_type": "code",
      "source": [
        "df['hour_of_day'] = df.index.hour"
      ],
      "metadata": {
        "id": "WJjnzxbHTsA6"
      },
      "execution_count": null,
      "outputs": []
    },
    {
      "cell_type": "markdown",
      "source": [
        "Mes"
      ],
      "metadata": {
        "id": "EI7507ewTveQ"
      }
    },
    {
      "cell_type": "code",
      "source": [
        "df['month'] = df.index.month"
      ],
      "metadata": {
        "id": "B-iPO315TxDT"
      },
      "execution_count": null,
      "outputs": []
    },
    {
      "cell_type": "markdown",
      "source": [
        "¿Qué día de la semana, hora del día y mes tiene más registros de subida de precios?"
      ],
      "metadata": {
        "id": "55SO_tTqTzRM"
      }
    },
    {
      "cell_type": "code",
      "source": [
        "df_up = df[df['Response'] == 1]\n",
        "df_down = df[df['Response'] == 0]"
      ],
      "metadata": {
        "id": "aSLN3FD6T5-p"
      },
      "execution_count": null,
      "outputs": []
    },
    {
      "cell_type": "code",
      "source": [
        "sns.countplot(x='day_of_week', data=df_up, order=df_up['day_of_week'].value_counts().index)\n",
        "plt.title('Frecuencia de Días de la Semana donde el Precio Sube')\n",
        "plt.xlabel('Día de la Semana')\n",
        "plt.ylabel('Frecuencia')\n",
        "plt.show()\n",
        "\n",
        "sns.countplot(x='hour_of_day', data=df_up, order=df_up['hour_of_day'].value_counts().index)\n",
        "plt.title('Frecuencia de Horas del Día donde el Precio Sube')\n",
        "plt.xlabel('Hora del Día')\n",
        "plt.ylabel('Frecuencia')\n",
        "plt.show()\n",
        "\n",
        "sns.countplot(x='month', data=df_up, order=df_up['month'].value_counts().index)\n",
        "plt.title('Frecuencia de Mes del Año donde el Precio Sube')\n",
        "plt.xlabel('Mes')\n",
        "plt.ylabel('Frecuencia')\n",
        "plt.show()"
      ],
      "metadata": {
        "id": "3T1o7sFIT8KX"
      },
      "execution_count": null,
      "outputs": []
    },
    {
      "cell_type": "markdown",
      "source": [
        "Se aprecia que los días 6 y 4 tienen una frecuencia de subida de precio mayor a los demás días de la semana. Las horas con mayor frecuencia de subida de precio es desde las 17 horas hasta las 23, de acuerdo con los datos utilizados. Por último, se observa que los meses que tienen mayor frecuencia de subida de precios son el mes 1 y el 6."
      ],
      "metadata": {
        "id": "lxnDtMaXT4TY"
      }
    },
    {
      "cell_type": "markdown",
      "source": [
        "¿Qué día de la semana, hora del día y mes tiene menos registros de subida de precios?"
      ],
      "metadata": {
        "id": "rVDuV0vbUNaS"
      }
    },
    {
      "cell_type": "code",
      "source": [
        "sns.countplot(x='day_of_week', data=df_down, order=df_down['day_of_week'].value_counts().index)\n",
        "plt.title('Frecuencia de Días de la Semana donde el Precio Baja')\n",
        "plt.xlabel('Día de la Semana')\n",
        "plt.ylabel('Frecuencia')\n",
        "plt.show()\n",
        "\n",
        "sns.countplot(x='hour_of_day', data=df_down, order=df_down['hour_of_day'].value_counts().index)\n",
        "plt.title('Frecuencia de Horas del Día donde el Precio Baja')\n",
        "plt.xlabel('Hora del Día')\n",
        "plt.ylabel('Frecuencia')\n",
        "plt.show()\n",
        "\n",
        "sns.countplot(x='month', data=df_down, order=df_down['month'].value_counts().index)\n",
        "plt.title('Frecuencia de Horas del Día donde el Precio Baja')\n",
        "plt.xlabel('Mes')\n",
        "plt.ylabel('Frecuencia')\n",
        "plt.show()"
      ],
      "metadata": {
        "id": "z7DP9QBQURJA"
      },
      "execution_count": null,
      "outputs": []
    },
    {
      "cell_type": "markdown",
      "source": [
        "Se aprecia que los días 5 y 0 tienen una frecuencia de bajada de precio mayor a los demás días de la semana. Las horas con menor frecuencia de subida de precio es desde las 13 horas hasta las 16 y con un periodo también bajo a las 5. Por último, se observa que los meses que tienen mayor frecuencia de bajada de precios son el mes 7 y el 8."
      ],
      "metadata": {
        "id": "7NP3aWfyUTaZ"
      }
    },
    {
      "cell_type": "markdown",
      "source": [
        "### ¿Qué pudieramos observar si empezamos a crear nuevas características a partir de operaciones con las columnas ya existentes?"
      ],
      "metadata": {
        "id": "Yb7P0mNRUVy0"
      }
    },
    {
      "cell_type": "markdown",
      "source": [
        "¿Pudiera impactar el rango entre el valor máximo y el mínimo dentro de una misma hora?"
      ],
      "metadata": {
        "id": "hIcjKi-lUXuB"
      }
    },
    {
      "cell_type": "code",
      "source": [
        "df['daily_range'] = df['High'] - df['Low']"
      ],
      "metadata": {
        "id": "kcwRHBcrUY_D"
      },
      "execution_count": null,
      "outputs": []
    },
    {
      "cell_type": "code",
      "source": [
        "sns.boxplot(x='Response', y='daily_range', data=df)\n",
        "plt.title('Comparación de Daily Range para Subidas y Bajadas')\n",
        "plt.xlabel('Precio Sube (1) o Baja (0)')\n",
        "plt.ylabel('Daily Range')\n",
        "plt.show()"
      ],
      "metadata": {
        "id": "zNuE1N8qUaih"
      },
      "execution_count": null,
      "outputs": []
    },
    {
      "cell_type": "markdown",
      "source": [
        "En la gráfica anterior se puede observar que los gráficos de caja son similares. No se puede observar a simple vista alguna diferencia que la que pudieramos inferir."
      ],
      "metadata": {
        "id": "6SHpObmFUcfK"
      }
    },
    {
      "cell_type": "code",
      "source": [
        "df['buy_sell_ratio'] = df['Taker_buy_base_asset_volume'] / df['Taker_buy_quote_asset_volume']"
      ],
      "metadata": {
        "id": "KMNWTRnPUet5"
      },
      "execution_count": null,
      "outputs": []
    },
    {
      "cell_type": "code",
      "source": [
        "sns.boxplot(x='Response', y='buy_sell_ratio', data=df)\n",
        "plt.title('Comparación de Buy/Sell Ratio para Subidas y Bajadas')\n",
        "plt.xlabel('Precio Sube (1) o Baja (0)')\n",
        "plt.ylabel('Buy/Sell Ratio')\n",
        "plt.show()"
      ],
      "metadata": {
        "id": "XTLUZ65xUhJR"
      },
      "execution_count": null,
      "outputs": []
    },
    {
      "cell_type": "markdown",
      "source": [
        "En la gráfica anterior se puede observar que los gráficos de caja son similares. No se puede observar a simple vista alguna diferencia que la que pudieramos inferir."
      ],
      "metadata": {
        "id": "UXTm-z2dUeJL"
      }
    },
    {
      "cell_type": "markdown",
      "source": [
        "Volumen promedio"
      ],
      "metadata": {
        "id": "8-wy_cv8Ul4o"
      }
    },
    {
      "cell_type": "code",
      "source": [
        "win_size = 24"
      ],
      "metadata": {
        "id": "SPhEm5aQUnl2"
      },
      "execution_count": null,
      "outputs": []
    },
    {
      "cell_type": "code",
      "source": [
        "df['Average_Volume'] = df['Volume'].rolling(window= win_size).mean()"
      ],
      "metadata": {
        "id": "yt_AzgkqUpKu"
      },
      "execution_count": null,
      "outputs": []
    },
    {
      "cell_type": "code",
      "source": [
        "df['Relative_Volume'] = df['Volume'] / df['Average_Volume']"
      ],
      "metadata": {
        "id": "idN837U0UqfH"
      },
      "execution_count": null,
      "outputs": []
    },
    {
      "cell_type": "code",
      "source": [
        "df.columns"
      ],
      "metadata": {
        "id": "dFNdVk88Usgy"
      },
      "execution_count": null,
      "outputs": []
    },
    {
      "cell_type": "code",
      "source": [
        "df.describe()"
      ],
      "metadata": {
        "id": "3acsSi_5Ut8a"
      },
      "execution_count": null,
      "outputs": []
    },
    {
      "cell_type": "markdown",
      "source": [
        "Se tomarán los valores del 50% para determinar si es alto o bajo, si es mayor al 50% se asignara un '1' de lo contrario '0'"
      ],
      "metadata": {
        "id": "o7ZgKwxsUwHS"
      }
    },
    {
      "cell_type": "markdown",
      "source": [
        "Valores Altos o Bajos (1,0) en 'Open', 'High', 'Low', 'Close', Volume','Quote_asset_volume', 'Number_of_trades','Taker_buy_base_asset_volume' y 'Taker_buy_quote_asset_volume'"
      ],
      "metadata": {
        "id": "UvSQ18J9UyCr"
      }
    },
    {
      "cell_type": "code",
      "source": [
        "median_open = df['Open'].median()\n",
        "median_high = df['High'].median()\n",
        "median_low = df['Low'].median()\n",
        "median_close = df['Close'].median()\n",
        "median_volume = df['Volume'].median()\n",
        "median_quote = df['Quote_asset_volume'].median()\n",
        "median_number = df['Number_of_trades'].median()\n",
        "median_base = df['Taker_buy_base_asset_volume'].median()\n",
        "median_asset = df['Taker_buy_quote_asset_volume'].median()\n",
        "\n",
        "open_range = []\n",
        "high_range = []\n",
        "low_range = []\n",
        "close_range = []\n",
        "volume_range = []\n",
        "quote_range = []\n",
        "number_range = []\n",
        "base_range = []\n",
        "asset_range = []\n",
        "\n",
        "for i in df['Open']:\n",
        "  if i > median_open:\n",
        "    open_range.append(1)\n",
        "  else:\n",
        "    open_range.append(0)\n",
        "\n",
        "df['Open_range'] = open_range\n",
        "\n",
        "for i in df['High']:\n",
        "  if i > median_high:\n",
        "    high_range.append(1)\n",
        "  else:\n",
        "    high_range.append(0)\n",
        "\n",
        "df['High_range'] = high_range\n",
        "\n",
        "for i in df['Low']:\n",
        "  if i > median_low:\n",
        "    low_range.append(1)\n",
        "  else:\n",
        "    low_range.append(0)\n",
        "\n",
        "df['Low_range'] = low_range\n",
        "\n",
        "for i in df['Close']:\n",
        "  if i > median_close:\n",
        "    close_range.append(1)\n",
        "  else:\n",
        "    close_range.append(0)\n",
        "\n",
        "df['Close_range'] = close_range\n",
        "\n",
        "for i in df['Volume']:\n",
        "  if i > median_volume:\n",
        "    volume_range.append(1)\n",
        "  else:\n",
        "    volume_range.append(0)\n",
        "\n",
        "df['Volume_range'] = volume_range\n",
        "\n",
        "for i in df['Quote_asset_volume']:\n",
        "  if i > median_quote:\n",
        "    quote_range.append(1)\n",
        "  else:\n",
        "    quote_range.append(0)\n",
        "\n",
        "df['Quote_range'] = quote_range\n",
        "\n",
        "for i in df['Number_of_trades']:\n",
        "  if i > median_number:\n",
        "    number_range.append(1)\n",
        "  else:\n",
        "    number_range.append(0)\n",
        "\n",
        "df['Number_range'] = number_range\n",
        "\n",
        "for i in df['Taker_buy_base_asset_volume']:\n",
        "  if i > median_base:\n",
        "    base_range.append(1)\n",
        "  else:\n",
        "    base_range.append(0)\n",
        "\n",
        "df['Base_range'] = base_range\n",
        "\n",
        "for i in df['Taker_buy_quote_asset_volume']:\n",
        "  if i > median_asset:\n",
        "    asset_range.append(1)\n",
        "  else:\n",
        "    asset_range.append(0)\n",
        "\n",
        "df['Asset_range'] = asset_range"
      ],
      "metadata": {
        "id": "KG37JuJ7Uyb0"
      },
      "execution_count": null,
      "outputs": []
    },
    {
      "cell_type": "code",
      "source": [
        "df.describe()"
      ],
      "metadata": {
        "id": "Ch33Hn-FU3XL"
      },
      "execution_count": null,
      "outputs": []
    },
    {
      "cell_type": "markdown",
      "source": [
        "### Correlación"
      ],
      "metadata": {
        "id": "Mu-BIUBUU27x"
      }
    },
    {
      "cell_type": "code",
      "source": [
        "df_corr = df.drop('Ignore', axis = 1)\n",
        "correlation_matrix = df_corr.corr()\n",
        "\n",
        "\n",
        "sns.heatmap(correlation_matrix, annot=True, cmap='coolwarm', fmt=\".2f\", linewidths=.5)\n",
        "plt.title('Matriz de Correlación')\n",
        "plt.show()"
      ],
      "metadata": {
        "id": "fXrqaf6fU7po"
      },
      "execution_count": null,
      "outputs": []
    },
    {
      "cell_type": "markdown",
      "source": [
        "Es evidente que algunas variables tienen alta correlación entre sí tales como:\n",
        "- 'Open'\n",
        "- 'High'\n",
        "- 'Low'\n",
        "- 'Close'\n",
        "\n",
        "Así como también:\n",
        "- 'Volume'\n",
        "- 'Quote_asset_volume'\n",
        "- 'Number_of_trades'\n",
        "- 'Taker_buy_base_volume'\n",
        "- 'Taker_buy_quote_asset_volume'"
      ],
      "metadata": {
        "id": "nQW_tMPTU9-H"
      }
    }
  ]
}